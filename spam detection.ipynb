{
 "cells": [
  {
   "cell_type": "markdown",
   "metadata": {},
   "source": [
    "# SMS Spam detection using Machine Learning"
   ]
  },
  {
   "cell_type": "markdown",
   "metadata": {},
   "source": [
    "This is the code written in Python for building the a Spam Detector using Machine Learning trained on the 'spam.csv' file from Kaggle. We start from importing the dataset to building models."
   ]
  },
  {
   "cell_type": "markdown",
   "metadata": {},
   "source": [
    "We start by importing the required libraries such as numpy, pandas, nltk, etc... then we import the dataset by using Pandas.\n",
    "The 'stopwords' contains the common words that we don't really need in our algorithm and we stem the words to obain their root.\n",
    "CountVectorizer, TfidTransformer are used to transform the text data into matrix."
   ]
  },
  {
   "cell_type": "markdown",
   "metadata": {},
   "source": [
    "### Import the data"
   ]
  },
  {
   "cell_type": "code",
   "execution_count": null,
   "metadata": {},
   "outputs": [],
   "source": [
    "import numpy as np\n",
    "import pandas as pd\n",
    "import re\n",
    "from nltk.corpus import stopwords\n",
    "from nltk.stem import PorterStemmer\n",
    "from sklearn.model_selection import train_test_split\n",
    "from sklearn.metrics import confusion_matrix, accuracy_score, classification_report\n",
    "from imblearn.over_sampling import SMOTE\n",
    "from sklearn.feature_extraction.text import CountVectorizer,TfidfTransformer"
   ]
  },
  {
   "cell_type": "code",
   "execution_count": 244,
   "metadata": {},
   "outputs": [
    {
     "data": {
      "text/html": [
       "<div>\n",
       "<style scoped>\n",
       "    .dataframe tbody tr th:only-of-type {\n",
       "        vertical-align: middle;\n",
       "    }\n",
       "\n",
       "    .dataframe tbody tr th {\n",
       "        vertical-align: top;\n",
       "    }\n",
       "\n",
       "    .dataframe thead th {\n",
       "        text-align: right;\n",
       "    }\n",
       "</style>\n",
       "<table border=\"1\" class=\"dataframe\">\n",
       "  <thead>\n",
       "    <tr style=\"text-align: right;\">\n",
       "      <th></th>\n",
       "      <th>Unnamed: 0</th>\n",
       "      <th>v1</th>\n",
       "      <th>v2</th>\n",
       "    </tr>\n",
       "  </thead>\n",
       "  <tbody>\n",
       "    <tr>\n",
       "      <th>0</th>\n",
       "      <td>0</td>\n",
       "      <td>ham</td>\n",
       "      <td>Go until jurong point, crazy.. Available only ...</td>\n",
       "    </tr>\n",
       "    <tr>\n",
       "      <th>1</th>\n",
       "      <td>1</td>\n",
       "      <td>ham</td>\n",
       "      <td>Ok lar... Joking wif u oni...</td>\n",
       "    </tr>\n",
       "    <tr>\n",
       "      <th>2</th>\n",
       "      <td>2</td>\n",
       "      <td>spam</td>\n",
       "      <td>Free entry in 2 a wkly comp to win FA Cup fina...</td>\n",
       "    </tr>\n",
       "    <tr>\n",
       "      <th>3</th>\n",
       "      <td>3</td>\n",
       "      <td>ham</td>\n",
       "      <td>U dun say so early hor... U c already then say...</td>\n",
       "    </tr>\n",
       "    <tr>\n",
       "      <th>4</th>\n",
       "      <td>4</td>\n",
       "      <td>ham</td>\n",
       "      <td>Nah I don't think he goes to usf, he lives aro...</td>\n",
       "    </tr>\n",
       "  </tbody>\n",
       "</table>\n",
       "</div>"
      ],
      "text/plain": [
       "   Unnamed: 0    v1                                                 v2\n",
       "0           0   ham  Go until jurong point, crazy.. Available only ...\n",
       "1           1   ham                      Ok lar... Joking wif u oni...\n",
       "2           2  spam  Free entry in 2 a wkly comp to win FA Cup fina...\n",
       "3           3   ham  U dun say so early hor... U c already then say...\n",
       "4           4   ham  Nah I don't think he goes to usf, he lives aro..."
      ]
     },
     "execution_count": 244,
     "metadata": {},
     "output_type": "execute_result"
    }
   ],
   "source": [
    "df = pd.read_csv('spam.csv')\n",
    "df.head()"
   ]
  },
  {
   "cell_type": "markdown",
   "metadata": {},
   "source": [
    "### Clean and prepare the data for model building"
   ]
  },
  {
   "cell_type": "code",
   "execution_count": 245,
   "metadata": {},
   "outputs": [],
   "source": [
    "df = df.drop('Unnamed: 0',axis=1)\n",
    "df = df.rename(columns={'v2': 'messages', 'v1': 'label'})\n",
    "df['label'] = df['label'].replace('ham',0)\n",
    "df['label'] = df['label'].replace('spam',1)"
   ]
  },
  {
   "cell_type": "markdown",
   "metadata": {},
   "source": [
    "Let us build a function that can clean the data by removing special characters, extra spaces and stopwords and stemming all the words in the text. We also remove the unnecessary column."
   ]
  },
  {
   "cell_type": "code",
   "execution_count": 248,
   "metadata": {},
   "outputs": [],
   "source": [
    "stop_words = set(stopwords.words('english'))\n",
    "ps = PorterStemmer()\n",
    "def clean_text_data(data):\n",
    "    data = data.lower()\n",
    "    #Remove special characters\n",
    "    data = re.sub(r'[^0-9a-zA-Z]', ' ', data)\n",
    "    #Remove extra spaces\n",
    "    data = re.sub(r'\\s+', ' ', data)\n",
    "    #Remove stopwords\n",
    "    data = \" \".join(w for w in data.split() if w not in stop_words)\n",
    "    #stemming the words\n",
    "    words = data.split()\n",
    "    l = []\n",
    "    for w in words:\n",
    "        l.append(ps.stem(w))\n",
    "    data = \" \".join(w for w in l)\n",
    "    return data "
   ]
  },
  {
   "cell_type": "code",
   "execution_count": 249,
   "metadata": {},
   "outputs": [],
   "source": [
    "df['messages']=df['messages'].apply(clean_text_data)"
   ]
  },
  {
   "cell_type": "markdown",
   "metadata": {},
   "source": [
    "### Model building"
   ]
  },
  {
   "cell_type": "markdown",
   "metadata": {},
   "source": [
    "Now we are going to separate the input and outcomes by X and Y. \n",
    "We will build the 'classify_msg' function to classify the text. \n",
    "We will vectorize the texts to obtain a matrix representation of the data. \n",
    "We will split the data into 'Training' and 'Test' sets by conserving their classification weights then we will oversample the Training set with SMOTE().\n",
    "\n",
    "We train the models in a loop and print their scores"
   ]
  },
  {
   "cell_type": "code",
   "execution_count": 250,
   "metadata": {},
   "outputs": [],
   "source": [
    "X =df['messages']\n",
    "Y = df['label']"
   ]
  },
  {
   "cell_type": "code",
   "execution_count": 256,
   "metadata": {},
   "outputs": [],
   "source": [
    "def classify_msg(X,Y,models):\n",
    "    # transform the text data into matrix\n",
    "    vec = CountVectorizer()\n",
    "    X = vec.fit_transform(X)\n",
    "    tf = TfidfTransformer()\n",
    "    X = tf.fit_transform(X)\n",
    "    \n",
    "    # Deal with imbalanced class: Oversampling with SMOTE\n",
    "    X_train,X_test,Y_train,Y_test = train_test_split(X,Y,test_size=0.2,shuffle=True, stratify=Y)\n",
    "    ovsp = SMOTE()\n",
    "    x_train,y_train = ovsp.fit_resample(X_train,Y_train)\n",
    "    \n",
    "    for algo in models:\n",
    "        print('\\n')\n",
    "        print(str(algo),':')\n",
    "        algo.fit(x_train,y_train)\n",
    "        ypred = algo.predict(X_test)\n",
    "        # Predictions and score\n",
    "        print('accuracy score : ',accuracy_score(Y_test,ypred))\n",
    "        print('Confusion matrix : \\n ', confusion_matrix(Y_test,ypred))\n",
    "        print('Classificaiton report : \\n ', classification_report(Y_test,ypred))"
   ]
  },
  {
   "cell_type": "code",
   "execution_count": 257,
   "metadata": {},
   "outputs": [],
   "source": [
    "from sklearn.linear_model import LogisticRegression\n",
    "lr = LogisticRegression()\n",
    "from sklearn.tree import DecisionTreeClassifier\n",
    "dtree = DecisionTreeClassifier()\n",
    "\n",
    "from sklearn.svm import SVC\n",
    "svm = SVC()\n",
    "\n",
    "from sklearn.ensemble import RandomForestClassifier\n",
    "rfc = RandomForestClassifier()\n",
    "\n",
    "models = [lr,dtree,svm,rfc]"
   ]
  },
  {
   "cell_type": "code",
   "execution_count": 258,
   "metadata": {
    "scrolled": false
   },
   "outputs": [
    {
     "name": "stdout",
     "output_type": "stream",
     "text": [
      "\n",
      "\n",
      "LogisticRegression() :\n",
      "accuracy score :  0.9811659192825112\n",
      "Confusion matrix : \n",
      "  [[959   7]\n",
      " [ 14 135]]\n",
      "Classificaiton report : \n",
      "                precision    recall  f1-score   support\n",
      "\n",
      "           0       0.99      0.99      0.99       966\n",
      "           1       0.95      0.91      0.93       149\n",
      "\n",
      "    accuracy                           0.98      1115\n",
      "   macro avg       0.97      0.95      0.96      1115\n",
      "weighted avg       0.98      0.98      0.98      1115\n",
      "\n",
      "\n",
      "\n",
      "DecisionTreeClassifier() :\n",
      "accuracy score :  0.9632286995515695\n",
      "Confusion matrix : \n",
      "  [[943  23]\n",
      " [ 18 131]]\n",
      "Classificaiton report : \n",
      "                precision    recall  f1-score   support\n",
      "\n",
      "           0       0.98      0.98      0.98       966\n",
      "           1       0.85      0.88      0.86       149\n",
      "\n",
      "    accuracy                           0.96      1115\n",
      "   macro avg       0.92      0.93      0.92      1115\n",
      "weighted avg       0.96      0.96      0.96      1115\n",
      "\n",
      "\n",
      "\n",
      "SVC() :\n",
      "accuracy score :  0.9766816143497757\n",
      "Confusion matrix : \n",
      "  [[966   0]\n",
      " [ 26 123]]\n",
      "Classificaiton report : \n",
      "                precision    recall  f1-score   support\n",
      "\n",
      "           0       0.97      1.00      0.99       966\n",
      "           1       1.00      0.83      0.90       149\n",
      "\n",
      "    accuracy                           0.98      1115\n",
      "   macro avg       0.99      0.91      0.95      1115\n",
      "weighted avg       0.98      0.98      0.98      1115\n",
      "\n",
      "\n",
      "\n",
      "RandomForestClassifier() :\n",
      "accuracy score :  0.9820627802690582\n",
      "Confusion matrix : \n",
      "  [[966   0]\n",
      " [ 20 129]]\n",
      "Classificaiton report : \n",
      "                precision    recall  f1-score   support\n",
      "\n",
      "           0       0.98      1.00      0.99       966\n",
      "           1       1.00      0.87      0.93       149\n",
      "\n",
      "    accuracy                           0.98      1115\n",
      "   macro avg       0.99      0.93      0.96      1115\n",
      "weighted avg       0.98      0.98      0.98      1115\n",
      "\n"
     ]
    }
   ],
   "source": [
    "classify_msg(X,Y,models)"
   ]
  },
  {
   "cell_type": "markdown",
   "metadata": {},
   "source": [
    "### Thank you"
   ]
  }
 ],
 "metadata": {
  "kernelspec": {
   "display_name": "Python 3",
   "language": "python",
   "name": "python3"
  },
  "language_info": {
   "codemirror_mode": {
    "name": "ipython",
    "version": 3
   },
   "file_extension": ".py",
   "mimetype": "text/x-python",
   "name": "python",
   "nbconvert_exporter": "python",
   "pygments_lexer": "ipython3",
   "version": "3.8.3"
  }
 },
 "nbformat": 4,
 "nbformat_minor": 4
}
